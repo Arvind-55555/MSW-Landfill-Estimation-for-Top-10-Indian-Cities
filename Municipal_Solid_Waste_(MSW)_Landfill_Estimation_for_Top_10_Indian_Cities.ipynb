{
  "nbformat": 4,
  "nbformat_minor": 0,
  "metadata": {
    "colab": {
      "provenance": [],
      "authorship_tag": "ABX9TyNJqjJjLiHZ4ydEzAj91idc",
      "include_colab_link": true
    },
    "kernelspec": {
      "name": "python3",
      "display_name": "Python 3"
    },
    "language_info": {
      "name": "python"
    }
  },
  "cells": [
    {
      "cell_type": "markdown",
      "metadata": {
        "id": "view-in-github",
        "colab_type": "text"
      },
      "source": [
        "<a href=\"https://colab.research.google.com/github/Arvind-55555/MSW-Landfill-Estimation-for-Top-10-Indian-Cities/blob/main/Municipal_Solid_Waste_(MSW)_Landfill_Estimation_for_Top_10_Indian_Cities.ipynb\" target=\"_parent\"><img src=\"https://colab.research.google.com/assets/colab-badge.svg\" alt=\"Open In Colab\"/></a>"
      ]
    },
    {
      "cell_type": "code",
      "source": [
        "import pandas as pd\n",
        "import numpy as np\n",
        "import requests\n",
        "import json\n",
        "from math import exp, log"
      ],
      "metadata": {
        "id": "aUpzUTy38pyh"
      },
      "execution_count": 17,
      "outputs": []
    },
    {
      "cell_type": "code",
      "source": [
        "# --- 1. Data Fetching Functions ---\n",
        "def fetch_worldometer_population(city_name):\n",
        "    \"\"\"\n",
        "    Fetches city population from Worldometer API (not always updated).\n",
        "    \"\"\"\n",
        "    try:\n",
        "        url = \"https://www.data.gov.in/search\"\n",
        "        response = requests.get(url)\n",
        "        response.raise_for_status()\n",
        "        soup = BeautifulSoup(response.text, \"html.parser\")\n",
        "        # Find the table containing population data (inspect the website to find the correct table)\n",
        "        table = soup.find('table', class_=\"table table-striped table-bordered\")\n",
        "\n",
        "        # Check if the table is found\n",
        "        if table is not None:\n",
        "            # Extract population data from the table using specific tags or attributes\n",
        "            # The following assumes the population is in the second column (index 1) of the last row\n",
        "            population_row = table.find_all('tr')[-1]\n",
        "            population = int(population_row.find_all('td')[1].text.replace(\",\", \"\"))\n",
        "            return population\n",
        "        else:\n",
        "            print(f\"Table not found for {city_name}. Check the HTML structure.\")\n",
        "            return None  # Return None if the table is not found\n",
        "\n",
        "    except requests.exceptions.RequestException as e:\n",
        "        print(f\"Error fetching population for {city_name}: {e}\")\n",
        "        return None\n",
        "\n",
        "def fetch_demographics(city_name):\n",
        "    \"\"\"\n",
        "    Fetches BR, DR for city. Uses a workaround for API challenges.\n",
        "    \"\"\"\n",
        "    try:\n",
        "        url = f\"https://www.data.gov.in/search?\"\n",
        "        response = requests.get(url)\n",
        "        response.raise_for_status()\n",
        "        #print(response.text)\n",
        "        # Use pandas read_html instead of json parsing to parse the demographic table from the web\n",
        "        dfs = pd.read_html(response.text)\n",
        "        demographics_df = dfs[0]\n",
        "        # Assuming the Birth Rate is in the second column (index 1) of the last row\n",
        "        birth_rate = float(demographics_df.iloc[-1, 1])\n",
        "\n",
        "        url = f\"https://www.data.gov.in/search?\"  # Updated URL\n",
        "        response = requests.get(url)\n",
        "        response.raise_for_status()\n",
        "        dfs = pd.read_html(response.text)\n",
        "        demographics_df = dfs[0]\n",
        "\n",
        "        # Assuming the Death Rate is in the second column (index 1) of the last row\n",
        "        death_rate = float(demographics_df.iloc[-1, 1])\n",
        "\n",
        "        return birth_rate, death_rate\n",
        "\n",
        "    except requests.exceptions.RequestException as e:\n",
        "        print(f\"Error fetching BR/DR for {city_name}: {e}\")\n",
        "        return None, None\n",
        "\n",
        "def fetch_landfill_data(city_name):\n",
        "  \"\"\"\n",
        "    Fetches landfill data (very simplified, may require manual data in future)\n",
        "  \"\"\"\n",
        "  # This is a placeholder, replace with a real data source or CSV if needed\n",
        "  landfill_data = {\n",
        "    \"Mumbai\": {\"present_capacity_sqkm\": 10, \"shortage_sqkm\": 0.5},\n",
        "    \"Delhi\": {\"present_capacity_sqkm\": 15, \"shortage_sqkm\": 0.8},\n",
        "    \"Bangalore\": {\"present_capacity_sqkm\": 10, \"shortage_sqkm\": 0.2},\n",
        "    \"Chennai\": {\"present_capacity_sqkm\": 12, \"shortage_sqkm\": 0.3},\n",
        "    \"Hyderabad\": {\"present_capacity_sqkm\": 8, \"shortage_sqkm\": 0.4},\n",
        "    \"Kolkata\": {\"present_capacity_sqkm\": 12, \"shortage_sqkm\": 0.6},\n",
        "    \"Ahmedabad\": {\"present_capacity_sqkm\": 7, \"shortage_sqkm\": 0.2},\n",
        "    \"Pune\": {\"present_capacity_sqkm\": 9, \"shortage_sqkm\": 0.1},\n",
        "    \"Surat\": {\"present_capacity_sqkm\": 6, \"shortage_sqkm\": 0.3},\n",
        "    \"Jaipur\": {\"present_capacity_sqkm\": 7, \"shortage_sqkm\": 0.1},\n",
        "    }\n",
        "  if city_name in landfill_data:\n",
        "    return landfill_data[city_name]['present_capacity_sqkm'], landfill_data[city_name]['shortage_sqkm']\n",
        "  else:\n",
        "    return None, None\n",
        "\n",
        "def calculate_population_growth_rate(birth_rate, death_rate):\n",
        "   \"\"\"\n",
        "    Calculates population growth rate based on birth and death rates\n",
        "   \"\"\"\n",
        "   if birth_rate is not None and death_rate is not None:\n",
        "      return (birth_rate - death_rate) / 100 #convert to percentage\n",
        "   else:\n",
        "      return None"
      ],
      "metadata": {
        "id": "_8Hy7sLe8p1P"
      },
      "execution_count": 33,
      "outputs": []
    },
    {
      "cell_type": "code",
      "source": [
        "# --- 2. Core Calculation Functions ---\n",
        "def calculate_msw_landfill(population, waste_per_person_per_day_kg, gr):\n",
        "    \"\"\"\n",
        "    Calculates the total landfill area required over 20 years.\n",
        "    \"\"\"\n",
        "    total_msw_kg_over_20_years = 0\n",
        "    population_projected = population\n",
        "    for year in range(20):\n",
        "        daily_msw_tonnes = (population_projected * waste_per_person_per_day_kg) / 1000\n",
        "        annual_msw_tonnes = daily_msw_tonnes * 365\n",
        "        total_msw_kg_over_20_years += (annual_msw_tonnes * 1000)\n",
        "        population_projected = population_projected * (1+gr/100)\n",
        "\n",
        "    landfill_volume_m3 = total_msw_kg_over_20_years / 600\n",
        "    total_cell_volume_m3 = landfill_volume_m3 / 0.8  # Account for soil cover\n",
        "    landfill_area_m2 = total_cell_volume_m3 / 10\n",
        "    landfill_area_km2 = landfill_area_m2 / 1000000\n",
        "    return landfill_area_km2, total_msw_kg_over_20_years/1000/1000 #Returns Area in km2 and Total MSW in million tons"
      ],
      "metadata": {
        "id": "n74igWkd9W6f"
      },
      "execution_count": 34,
      "outputs": []
    },
    {
      "cell_type": "code",
      "source": [
        "# --- 3. Main Execution ---\n",
        "if __name__ == \"__main__\":\n",
        "    top_cities = [\n",
        "        \"Mumbai\",\n",
        "        \"Delhi\",\n",
        "        \"Bangalore\",\n",
        "        \"Chennai\",\n",
        "        \"Hyderabad\",\n",
        "        \"Kolkata\",\n",
        "        \"Ahmedabad\",\n",
        "        \"Pune\",\n",
        "        \"Surat\",\n",
        "        \"Jaipur\",\n",
        "    ]\n",
        "    waste_per_person_per_day_kg = 0.7 # average\n",
        "    results = []\n",
        "    for city in top_cities:\n",
        "        print(f\"Processing {city}...\")\n",
        "        # Fetch Data\n",
        "        population = fetch_worldometer_population(city)\n",
        "        birth_rate, death_rate = fetch_demographics(city)\n",
        "        present_capacity, shortage = fetch_landfill_data(city)\n",
        "        gr = calculate_population_growth_rate(birth_rate, death_rate)\n",
        "\n",
        "        # Skip if Data unavailable\n",
        "        if population is None or birth_rate is None or death_rate is None:\n",
        "             print(f\"Skipping {city} due to data issues...\")\n",
        "             continue\n",
        "\n",
        "        # Calculations\n",
        "        landfill_area, msw_tonnes = calculate_msw_landfill(population, waste_per_person_per_day_kg, gr)\n",
        "\n",
        "        # Append to Result\n",
        "        results.append({\n",
        "            \"City\": city,\n",
        "            \"Population\": population,\n",
        "            \"Birth Rate\": birth_rate,\n",
        "            \"Death Rate\": death_rate,\n",
        "            \"Population GR\": gr,\n",
        "            \"Current Landfill Capacity (sqkm)\": present_capacity,\n",
        "            \"Landfill Shortage (sqkm)\": shortage,\n",
        "            \"Total Landfill Area Needed (km²)\": landfill_area,\n",
        "            \"MSW (million tonnes)\":msw_tonnes,\n",
        "        })\n",
        "    # Convert Results\n",
        "    df = pd.DataFrame(results)\n",
        "    print(df)"
      ],
      "metadata": {
        "colab": {
          "base_uri": "https://localhost:8080/",
          "height": 462
        },
        "id": "H-_pNg8R8p3q",
        "outputId": "24faf9d9-10b8-4b58-ab38-07e20bccc61a"
      },
      "execution_count": 35,
      "outputs": [
        {
          "output_type": "stream",
          "name": "stdout",
          "text": [
            "Processing Mumbai...\n",
            "Table not found for Mumbai. Check the HTML structure.\n"
          ]
        },
        {
          "output_type": "stream",
          "name": "stderr",
          "text": [
            "<ipython-input-33-314da6757689>:39: FutureWarning: Passing literal html to 'read_html' is deprecated and will be removed in a future version. To read from a literal string, wrap it in a 'StringIO' object.\n",
            "  dfs = pd.read_html(response.text)\n"
          ]
        },
        {
          "output_type": "error",
          "ename": "ValueError",
          "evalue": "No tables found",
          "traceback": [
            "\u001b[0;31m---------------------------------------------------------------------------\u001b[0m",
            "\u001b[0;31mValueError\u001b[0m                                Traceback (most recent call last)",
            "\u001b[0;32m<ipython-input-35-63ce6e714fb1>\u001b[0m in \u001b[0;36m<cell line: 2>\u001b[0;34m()\u001b[0m\n\u001b[1;32m     19\u001b[0m         \u001b[0;31m# Fetch Data\u001b[0m\u001b[0;34m\u001b[0m\u001b[0;34m\u001b[0m\u001b[0m\n\u001b[1;32m     20\u001b[0m         \u001b[0mpopulation\u001b[0m \u001b[0;34m=\u001b[0m \u001b[0mfetch_worldometer_population\u001b[0m\u001b[0;34m(\u001b[0m\u001b[0mcity\u001b[0m\u001b[0;34m)\u001b[0m\u001b[0;34m\u001b[0m\u001b[0;34m\u001b[0m\u001b[0m\n\u001b[0;32m---> 21\u001b[0;31m         \u001b[0mbirth_rate\u001b[0m\u001b[0;34m,\u001b[0m \u001b[0mdeath_rate\u001b[0m \u001b[0;34m=\u001b[0m \u001b[0mfetch_demographics\u001b[0m\u001b[0;34m(\u001b[0m\u001b[0mcity\u001b[0m\u001b[0;34m)\u001b[0m\u001b[0;34m\u001b[0m\u001b[0;34m\u001b[0m\u001b[0m\n\u001b[0m\u001b[1;32m     22\u001b[0m         \u001b[0mpresent_capacity\u001b[0m\u001b[0;34m,\u001b[0m \u001b[0mshortage\u001b[0m \u001b[0;34m=\u001b[0m \u001b[0mfetch_landfill_data\u001b[0m\u001b[0;34m(\u001b[0m\u001b[0mcity\u001b[0m\u001b[0;34m)\u001b[0m\u001b[0;34m\u001b[0m\u001b[0;34m\u001b[0m\u001b[0m\n\u001b[1;32m     23\u001b[0m         \u001b[0mgr\u001b[0m \u001b[0;34m=\u001b[0m \u001b[0mcalculate_population_growth_rate\u001b[0m\u001b[0;34m(\u001b[0m\u001b[0mbirth_rate\u001b[0m\u001b[0;34m,\u001b[0m \u001b[0mdeath_rate\u001b[0m\u001b[0;34m)\u001b[0m\u001b[0;34m\u001b[0m\u001b[0;34m\u001b[0m\u001b[0m\n",
            "\u001b[0;32m<ipython-input-33-314da6757689>\u001b[0m in \u001b[0;36mfetch_demographics\u001b[0;34m(city_name)\u001b[0m\n\u001b[1;32m     37\u001b[0m         \u001b[0;31m#print(response.text)\u001b[0m\u001b[0;34m\u001b[0m\u001b[0;34m\u001b[0m\u001b[0m\n\u001b[1;32m     38\u001b[0m         \u001b[0;31m# Use pandas read_html instead of json parsing to parse the demographic table from the web\u001b[0m\u001b[0;34m\u001b[0m\u001b[0;34m\u001b[0m\u001b[0m\n\u001b[0;32m---> 39\u001b[0;31m         \u001b[0mdfs\u001b[0m \u001b[0;34m=\u001b[0m \u001b[0mpd\u001b[0m\u001b[0;34m.\u001b[0m\u001b[0mread_html\u001b[0m\u001b[0;34m(\u001b[0m\u001b[0mresponse\u001b[0m\u001b[0;34m.\u001b[0m\u001b[0mtext\u001b[0m\u001b[0;34m)\u001b[0m\u001b[0;34m\u001b[0m\u001b[0;34m\u001b[0m\u001b[0m\n\u001b[0m\u001b[1;32m     40\u001b[0m         \u001b[0mdemographics_df\u001b[0m \u001b[0;34m=\u001b[0m \u001b[0mdfs\u001b[0m\u001b[0;34m[\u001b[0m\u001b[0;36m0\u001b[0m\u001b[0;34m]\u001b[0m\u001b[0;34m\u001b[0m\u001b[0;34m\u001b[0m\u001b[0m\n\u001b[1;32m     41\u001b[0m         \u001b[0;31m# Assuming the Birth Rate is in the second column (index 1) of the last row\u001b[0m\u001b[0;34m\u001b[0m\u001b[0;34m\u001b[0m\u001b[0m\n",
            "\u001b[0;32m/usr/local/lib/python3.10/dist-packages/pandas/io/html.py\u001b[0m in \u001b[0;36mread_html\u001b[0;34m(io, match, flavor, header, index_col, skiprows, attrs, parse_dates, thousands, encoding, decimal, converters, na_values, keep_default_na, displayed_only, extract_links, dtype_backend, storage_options)\u001b[0m\n\u001b[1;32m   1238\u001b[0m         )\n\u001b[1;32m   1239\u001b[0m \u001b[0;34m\u001b[0m\u001b[0m\n\u001b[0;32m-> 1240\u001b[0;31m     return _parse(\n\u001b[0m\u001b[1;32m   1241\u001b[0m         \u001b[0mflavor\u001b[0m\u001b[0;34m=\u001b[0m\u001b[0mflavor\u001b[0m\u001b[0;34m,\u001b[0m\u001b[0;34m\u001b[0m\u001b[0;34m\u001b[0m\u001b[0m\n\u001b[1;32m   1242\u001b[0m         \u001b[0mio\u001b[0m\u001b[0;34m=\u001b[0m\u001b[0mio\u001b[0m\u001b[0;34m,\u001b[0m\u001b[0;34m\u001b[0m\u001b[0;34m\u001b[0m\u001b[0m\n",
            "\u001b[0;32m/usr/local/lib/python3.10/dist-packages/pandas/io/html.py\u001b[0m in \u001b[0;36m_parse\u001b[0;34m(flavor, io, match, attrs, encoding, displayed_only, extract_links, storage_options, **kwargs)\u001b[0m\n\u001b[1;32m   1001\u001b[0m     \u001b[0;32melse\u001b[0m\u001b[0;34m:\u001b[0m\u001b[0;34m\u001b[0m\u001b[0;34m\u001b[0m\u001b[0m\n\u001b[1;32m   1002\u001b[0m         \u001b[0;32massert\u001b[0m \u001b[0mretained\u001b[0m \u001b[0;32mis\u001b[0m \u001b[0;32mnot\u001b[0m \u001b[0;32mNone\u001b[0m  \u001b[0;31m# for mypy\u001b[0m\u001b[0;34m\u001b[0m\u001b[0;34m\u001b[0m\u001b[0m\n\u001b[0;32m-> 1003\u001b[0;31m         \u001b[0;32mraise\u001b[0m \u001b[0mretained\u001b[0m\u001b[0;34m\u001b[0m\u001b[0;34m\u001b[0m\u001b[0m\n\u001b[0m\u001b[1;32m   1004\u001b[0m \u001b[0;34m\u001b[0m\u001b[0m\n\u001b[1;32m   1005\u001b[0m     \u001b[0mret\u001b[0m \u001b[0;34m=\u001b[0m \u001b[0;34m[\u001b[0m\u001b[0;34m]\u001b[0m\u001b[0;34m\u001b[0m\u001b[0;34m\u001b[0m\u001b[0m\n",
            "\u001b[0;32m/usr/local/lib/python3.10/dist-packages/pandas/io/html.py\u001b[0m in \u001b[0;36m_parse\u001b[0;34m(flavor, io, match, attrs, encoding, displayed_only, extract_links, storage_options, **kwargs)\u001b[0m\n\u001b[1;32m    981\u001b[0m \u001b[0;34m\u001b[0m\u001b[0m\n\u001b[1;32m    982\u001b[0m         \u001b[0;32mtry\u001b[0m\u001b[0;34m:\u001b[0m\u001b[0;34m\u001b[0m\u001b[0;34m\u001b[0m\u001b[0m\n\u001b[0;32m--> 983\u001b[0;31m             \u001b[0mtables\u001b[0m \u001b[0;34m=\u001b[0m \u001b[0mp\u001b[0m\u001b[0;34m.\u001b[0m\u001b[0mparse_tables\u001b[0m\u001b[0;34m(\u001b[0m\u001b[0;34m)\u001b[0m\u001b[0;34m\u001b[0m\u001b[0;34m\u001b[0m\u001b[0m\n\u001b[0m\u001b[1;32m    984\u001b[0m         \u001b[0;32mexcept\u001b[0m \u001b[0mValueError\u001b[0m \u001b[0;32mas\u001b[0m \u001b[0mcaught\u001b[0m\u001b[0;34m:\u001b[0m\u001b[0;34m\u001b[0m\u001b[0;34m\u001b[0m\u001b[0m\n\u001b[1;32m    985\u001b[0m             \u001b[0;31m# if `io` is an io-like object, check if it's seekable\u001b[0m\u001b[0;34m\u001b[0m\u001b[0;34m\u001b[0m\u001b[0m\n",
            "\u001b[0;32m/usr/local/lib/python3.10/dist-packages/pandas/io/html.py\u001b[0m in \u001b[0;36mparse_tables\u001b[0;34m(self)\u001b[0m\n\u001b[1;32m    247\u001b[0m         \u001b[0mlist\u001b[0m \u001b[0mof\u001b[0m \u001b[0mparsed\u001b[0m \u001b[0;34m(\u001b[0m\u001b[0mheader\u001b[0m\u001b[0;34m,\u001b[0m \u001b[0mbody\u001b[0m\u001b[0;34m,\u001b[0m \u001b[0mfooter\u001b[0m\u001b[0;34m)\u001b[0m \u001b[0mtuples\u001b[0m \u001b[0;32mfrom\u001b[0m \u001b[0mtables\u001b[0m\u001b[0;34m.\u001b[0m\u001b[0;34m\u001b[0m\u001b[0;34m\u001b[0m\u001b[0m\n\u001b[1;32m    248\u001b[0m         \"\"\"\n\u001b[0;32m--> 249\u001b[0;31m         \u001b[0mtables\u001b[0m \u001b[0;34m=\u001b[0m \u001b[0mself\u001b[0m\u001b[0;34m.\u001b[0m\u001b[0m_parse_tables\u001b[0m\u001b[0;34m(\u001b[0m\u001b[0mself\u001b[0m\u001b[0;34m.\u001b[0m\u001b[0m_build_doc\u001b[0m\u001b[0;34m(\u001b[0m\u001b[0;34m)\u001b[0m\u001b[0;34m,\u001b[0m \u001b[0mself\u001b[0m\u001b[0;34m.\u001b[0m\u001b[0mmatch\u001b[0m\u001b[0;34m,\u001b[0m \u001b[0mself\u001b[0m\u001b[0;34m.\u001b[0m\u001b[0mattrs\u001b[0m\u001b[0;34m)\u001b[0m\u001b[0;34m\u001b[0m\u001b[0;34m\u001b[0m\u001b[0m\n\u001b[0m\u001b[1;32m    250\u001b[0m         \u001b[0;32mreturn\u001b[0m \u001b[0;34m(\u001b[0m\u001b[0mself\u001b[0m\u001b[0;34m.\u001b[0m\u001b[0m_parse_thead_tbody_tfoot\u001b[0m\u001b[0;34m(\u001b[0m\u001b[0mtable\u001b[0m\u001b[0;34m)\u001b[0m \u001b[0;32mfor\u001b[0m \u001b[0mtable\u001b[0m \u001b[0;32min\u001b[0m \u001b[0mtables\u001b[0m\u001b[0;34m)\u001b[0m\u001b[0;34m\u001b[0m\u001b[0;34m\u001b[0m\u001b[0m\n\u001b[1;32m    251\u001b[0m \u001b[0;34m\u001b[0m\u001b[0m\n",
            "\u001b[0;32m/usr/local/lib/python3.10/dist-packages/pandas/io/html.py\u001b[0m in \u001b[0;36m_parse_tables\u001b[0;34m(self, document, match, attrs)\u001b[0m\n\u001b[1;32m    596\u001b[0m         \u001b[0mtables\u001b[0m \u001b[0;34m=\u001b[0m \u001b[0mdocument\u001b[0m\u001b[0;34m.\u001b[0m\u001b[0mfind_all\u001b[0m\u001b[0;34m(\u001b[0m\u001b[0melement_name\u001b[0m\u001b[0;34m,\u001b[0m \u001b[0mattrs\u001b[0m\u001b[0;34m=\u001b[0m\u001b[0mattrs\u001b[0m\u001b[0;34m)\u001b[0m\u001b[0;34m\u001b[0m\u001b[0;34m\u001b[0m\u001b[0m\n\u001b[1;32m    597\u001b[0m         \u001b[0;32mif\u001b[0m \u001b[0;32mnot\u001b[0m \u001b[0mtables\u001b[0m\u001b[0;34m:\u001b[0m\u001b[0;34m\u001b[0m\u001b[0;34m\u001b[0m\u001b[0m\n\u001b[0;32m--> 598\u001b[0;31m             \u001b[0;32mraise\u001b[0m \u001b[0mValueError\u001b[0m\u001b[0;34m(\u001b[0m\u001b[0;34m\"No tables found\"\u001b[0m\u001b[0;34m)\u001b[0m\u001b[0;34m\u001b[0m\u001b[0;34m\u001b[0m\u001b[0m\n\u001b[0m\u001b[1;32m    599\u001b[0m \u001b[0;34m\u001b[0m\u001b[0m\n\u001b[1;32m    600\u001b[0m         \u001b[0mresult\u001b[0m \u001b[0;34m=\u001b[0m \u001b[0;34m[\u001b[0m\u001b[0;34m]\u001b[0m\u001b[0;34m\u001b[0m\u001b[0;34m\u001b[0m\u001b[0m\n",
            "\u001b[0;31mValueError\u001b[0m: No tables found"
          ]
        }
      ]
    }
  ]
}